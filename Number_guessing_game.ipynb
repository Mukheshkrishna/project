{
  "nbformat": 4,
  "nbformat_minor": 0,
  "metadata": {
    "colab": {
      "name": "Number_guessing_game.ipynb",
      "provenance": [],
      "authorship_tag": "ABX9TyOlE9/CadYdvp/E2C35Oah+",
      "include_colab_link": true
    },
    "kernelspec": {
      "name": "python3",
      "display_name": "Python 3"
    },
    "language_info": {
      "name": "python"
    }
  },
  "cells": [
    {
      "cell_type": "markdown",
      "metadata": {
        "id": "view-in-github",
        "colab_type": "text"
      },
      "source": [
        "<a href=\"https://colab.research.google.com/github/Mukheshkrishna/project/blob/main/Number_guessing_game.ipynb\" target=\"_parent\"><img src=\"https://colab.research.google.com/assets/colab-badge.svg\" alt=\"Open In Colab\"/></a>"
      ]
    },
    {
      "cell_type": "code",
      "execution_count": 2,
      "metadata": {
        "colab": {
          "base_uri": "https://localhost:8080/"
        },
        "id": "UYU1T4G9qbcM",
        "outputId": "863b939b-8632-413e-d49d-cd27c817a1be"
      },
      "outputs": [
        {
          "output_type": "stream",
          "name": "stdout",
          "text": [
            "Enter Lower bound:- 1\n",
            "Enter Upper bound:- 100\n",
            "\n",
            "\tYou've only  7  chances to guess the integer!\n",
            "\n",
            "Guess a number:- 22\n",
            "You Guessed too high!\n",
            "Guess a number:- 12\n",
            "You Guessed too high!\n",
            "Guess a number:- 5\n",
            "You guessed too small!\n",
            "Guess a number:- 7\n",
            "You guessed too small!\n",
            "Guess a number:- 9\n",
            "You Guessed too high!\n",
            "Guess a number:- 8\n",
            "Congratulations you did it in  6  try\n"
          ]
        }
      ],
      "source": [
        "import random\n",
        "import math\n",
        "# Taking Inputs\n",
        "lower = int(input(\"Enter Lower bound:- \"))\n",
        "\n",
        "# Taking Inputs\n",
        "upper = int(input(\"Enter Upper bound:- \"))\n",
        "\n",
        "# generating random number between\n",
        "# the lower and upper\n",
        "x = random.randint(lower, upper)\n",
        "print(\"\\n\\tYou've only \",\n",
        "\tround(math.log(upper - lower + 1, 2)),\n",
        "\t\" chances to guess the integer!\\n\")\n",
        "\n",
        "# Initializing the number of guesses.\n",
        "count = 0\n",
        "\n",
        "# for calculation of minimum number of\n",
        "# guesses depends upon range\n",
        "while count < math.log(upper - lower + 1, 2):\n",
        "\tcount += 1\n",
        "\n",
        "\t# taking guessing number as input\n",
        "\tguess = int(input(\"Guess a number:- \"))\n",
        "\n",
        "\t# Condition testing\n",
        "\tif x == guess:\n",
        "\t\tprint(\"Congratulations you did it in \",\n",
        "\t\t\tcount, \" try\")\n",
        "\t\t# Once guessed, loop will break\n",
        "\t\tbreak\n",
        "\telif x > guess:\n",
        "\t\tprint(\"You guessed too small!\")\n",
        "\telif x < guess:\n",
        "\t\tprint(\"You Guessed too high!\")\n",
        "\n",
        "# If Guessing is more than required guesses,\n",
        "# shows this output.\n",
        "if count >= math.log(upper - lower + 1, 2):\n",
        "\tprint(\"\\nThe number is %d\" % x)\n",
        "\tprint(\"\\tBetter Luck Next time!\")\n",
        "\n",
        "# Better to use This source Code on pycharm!\n"
      ]
    }
  ]
}